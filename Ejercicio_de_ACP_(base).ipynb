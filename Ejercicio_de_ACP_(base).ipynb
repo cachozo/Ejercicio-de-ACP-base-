{
  "nbformat": 4,
  "nbformat_minor": 0,
  "metadata": {
    "colab": {
      "provenance": []
    },
    "kernelspec": {
      "name": "python3",
      "display_name": "Python 3"
    },
    "language_info": {
      "name": "python"
    }
  },
  "cells": [
    {
      "cell_type": "code",
      "source": [
        "# Importar\n",
        "import numpy as np\n",
        "import pandas as pd\n",
        "from sklearn.datasets import fetch_openml\n",
        "from sklearn.model_selection import train_test_split\n",
        "from sklearn.preprocessing import StandardScaler\n",
        "from sklearn.pipeline import make_pipeline\n",
        "from sklearn.decomposition import PCA\n",
        "from sklearn.neighbors import KNeighborsClassifier\n",
        "from sklearn.metrics import classification_report"
      ],
      "metadata": {
        "id": "OFYF3PvWlDAK"
      },
      "execution_count": 35,
      "outputs": []
    },
    {
      "cell_type": "code",
      "execution_count": 36,
      "metadata": {
        "colab": {
          "base_uri": "https://localhost:8080/"
        },
        "id": "4tYjPMxMjcMK",
        "outputId": "fe9b4bf4-a13a-4fce-eb0f-2b540896ca39"
      },
      "outputs": [
        {
          "output_type": "execute_result",
          "data": {
            "text/plain": [
              "(70000, 784)"
            ]
          },
          "metadata": {},
          "execution_count": 36
        }
      ],
      "source": [
        "#Puedes cargar el conjunto de datos utilizando este código:\n",
        "# load the dataset\n",
        "from sklearn.datasets import fetch_openml\n",
        "mnist = fetch_openml('mnist_784')\n",
        "# view the shape of the dataset\n",
        "mnist.data.shape\n",
        "\n",
        "#El conjunto de datos tiene forma (70000, 784), lo que significa que estamos trabajando con 70 000 imágenes con 784 dimensiones. Ten en cuenta que puedes acceder a los datos X utilizando “mnist.data” y acceder al objetivo utilizando “mnist.target”."
      ]
    },
    {
      "cell_type": "code",
      "source": [
        "#Ten en cuenta que puedes acceder a los datos X utilizando “mnist.data” y acceder al objetivo utilizando “mnist.target”.\n",
        "X = mnist.data\n",
        "y = mnist.target\n",
        "\n"
      ],
      "metadata": {
        "id": "Tm2xrhDmj2DN"
      },
      "execution_count": 37,
      "outputs": []
    },
    {
      "cell_type": "code",
      "source": [
        "#Prepara los datos para el modelado. \n",
        "X_train, X_test, y_train, y_test = train_test_split(X, y, random_state = 42)"
      ],
      "metadata": {
        "id": "DmdPFKrBl7Zg"
      },
      "execution_count": 38,
      "outputs": []
    },
    {
      "cell_type": "code",
      "source": [
        "# Dimensión -objetivos y datos. Escala y aplica ACP a tus datos mientras se retiene el 95 % de la varianza.  Asegúrate de no filtrar ninguna información.\n",
        "\n",
        "scaler = StandardScaler()\n",
        "scaler.fit(X_train)\n",
        "X_train_scaled = scaler.transform(X_train)\n",
        "X_test_scaled = scaler.transform(X_test)"
      ],
      "metadata": {
        "id": "1s82L4_tlHe-"
      },
      "execution_count": 39,
      "outputs": []
    },
    {
      "cell_type": "code",
      "source": [
        "#scala y aplica ACP a tus datos mientras se retiene el 95 % de la varianza.  Asegúrate de no filtrar ninguna información.\n",
        "knn_normal = make_pipeline(StandardScaler(), KNeighborsClassifier())\n",
        "knn_pca = make_pipeline(StandardScaler(), PCA(n_components = 0.95), KNeighborsClassifier())"
      ],
      "metadata": {
        "id": "Er8gvQRLnb5-"
      },
      "execution_count": 40,
      "outputs": []
    },
    {
      "cell_type": "code",
      "source": [
        "# a. 2 modelos KNN. Uno que utilice los datos transformados en ACP para predecir qué número muestra cada imagen.\n",
        "\n",
        "knn_pca.fit(X_train, y_train)"
      ],
      "metadata": {
        "colab": {
          "base_uri": "https://localhost:8080/"
        },
        "id": "kfdTF2lfnEFa",
        "outputId": "8b8a351d-0453-4df1-cbe4-66bd8ac8acb3"
      },
      "execution_count": 41,
      "outputs": [
        {
          "output_type": "execute_result",
          "data": {
            "text/plain": [
              "Pipeline(steps=[('standardscaler', StandardScaler()),\n",
              "                ('pca', PCA(n_components=0.95)),\n",
              "                ('kneighborsclassifier', KNeighborsClassifier())])"
            ]
          },
          "metadata": {},
          "execution_count": 41
        }
      ]
    },
    {
      "cell_type": "code",
      "source": [
        "#Uno que utilice los datos originales sin la transformación en ACP (pero recuerda que todavía tienes que escalar los datos)\n",
        "\n",
        "knn_normal.fit(X_train, y_train)"
      ],
      "metadata": {
        "colab": {
          "base_uri": "https://localhost:8080/"
        },
        "id": "RCjkwC2MnrtE",
        "outputId": "43fbf508-54be-4dd2-f895-e3c247a3a0a5"
      },
      "execution_count": 42,
      "outputs": [
        {
          "output_type": "execute_result",
          "data": {
            "text/plain": [
              "Pipeline(steps=[('standardscaler', StandardScaler()),\n",
              "                ('kneighborsclassifier', KNeighborsClassifier())])"
            ]
          },
          "metadata": {},
          "execution_count": 42
        }
      ]
    },
    {
      "cell_type": "code",
      "source": [
        "%%time\n",
        "preds_no_pca = knn_normal.predict(X_test)"
      ],
      "metadata": {
        "colab": {
          "base_uri": "https://localhost:8080/"
        },
        "id": "-ayynxvKoMrt",
        "outputId": "2fab1813-7527-494e-f8cc-288341f451e9"
      },
      "execution_count": 43,
      "outputs": [
        {
          "output_type": "stream",
          "name": "stdout",
          "text": [
            "CPU times: user 1min 25s, sys: 1.97 s, total: 1min 27s\n",
            "Wall time: 52.8 s\n"
          ]
        }
      ]
    },
    {
      "cell_type": "code",
      "source": [
        "%%time\n",
        "preds_pca = knn_pca.predict(X_test)\n"
      ],
      "metadata": {
        "colab": {
          "base_uri": "https://localhost:8080/"
        },
        "id": "6-EjN-ckou4w",
        "outputId": "b0630f57-8431-4aa4-b645-609fe90bd656"
      },
      "execution_count": 44,
      "outputs": [
        {
          "output_type": "stream",
          "name": "stdout",
          "text": [
            "CPU times: user 46.2 s, sys: 1.16 s, total: 47.4 s\n",
            "Wall time: 31.8 s\n"
          ]
        }
      ]
    },
    {
      "cell_type": "markdown",
      "source": [
        "##Mitad del tiempo con respecto al sin PCA."
      ],
      "metadata": {
        "id": "DHsbOV1XrNEx"
      }
    },
    {
      "cell_type": "code",
      "source": [
        "\n",
        "print('Metricas sin PCA')\n",
        "print(classification_report(preds_no_pca, y_test))\n",
        "\n",
        "print('Metricas con PCA')\n",
        "print(classification_report(preds_pca, y_test))"
      ],
      "metadata": {
        "colab": {
          "base_uri": "https://localhost:8080/"
        },
        "id": "h1jqBtkRrbuO",
        "outputId": "e6504a2c-8538-4423-fe62-86a227833e40"
      },
      "execution_count": 46,
      "outputs": [
        {
          "output_type": "stream",
          "name": "stdout",
          "text": [
            "Metricas sin PCA\n",
            "              precision    recall  f1-score   support\n",
            "\n",
            "           0       0.98      0.96      0.97      1748\n",
            "           1       0.99      0.95      0.97      2066\n",
            "           2       0.93      0.95      0.94      1737\n",
            "           3       0.94      0.93      0.94      1824\n",
            "           4       0.93      0.94      0.94      1576\n",
            "           5       0.93      0.94      0.94      1591\n",
            "           6       0.97      0.96      0.97      1780\n",
            "           7       0.93      0.94      0.93      1864\n",
            "           8       0.89      0.97      0.93      1525\n",
            "           9       0.92      0.90      0.91      1789\n",
            "\n",
            "    accuracy                           0.94     17500\n",
            "   macro avg       0.94      0.94      0.94     17500\n",
            "weighted avg       0.94      0.94      0.94     17500\n",
            "\n",
            "Metricas con PCA\n",
            "              precision    recall  f1-score   support\n",
            "\n",
            "           0       0.98      0.96      0.97      1748\n",
            "           1       0.99      0.96      0.97      2048\n",
            "           2       0.94      0.95      0.94      1744\n",
            "           3       0.94      0.94      0.94      1814\n",
            "           4       0.94      0.94      0.94      1591\n",
            "           5       0.93      0.95      0.94      1585\n",
            "           6       0.98      0.96      0.97      1787\n",
            "           7       0.93      0.94      0.94      1866\n",
            "           8       0.90      0.97      0.93      1541\n",
            "           9       0.93      0.91      0.92      1776\n",
            "\n",
            "    accuracy                           0.95     17500\n",
            "   macro avg       0.95      0.95      0.95     17500\n",
            "weighted avg       0.95      0.95      0.95     17500\n",
            "\n"
          ]
        }
      ]
    },
    {
      "cell_type": "markdown",
      "source": [
        "###RESPUESTAS\n",
        "\n",
        "1. Hay un mejor rendimiento del PCA tanto en la precisión como en el recall y la precisión. No es enorme pero sí es mejor. \n",
        "\n",
        "2. El modelo con PCA lo hizo en la mitad del tiempo, su rendimiento es sobresaliente."
      ],
      "metadata": {
        "id": "nzsN7sLMrtAw"
      }
    }
  ]
}